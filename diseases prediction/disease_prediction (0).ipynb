{
  "nbformat": 4,
  "nbformat_minor": 0,
  "metadata": {
    "colab": {
      "provenance": []
    },
    "kernelspec": {
      "name": "python3",
      "display_name": "Python 3"
    },
    "language_info": {
      "name": "python"
    }
  },
  "cells": [
    {
      "cell_type": "code",
      "execution_count": 1,
      "metadata": {
        "colab": {
          "base_uri": "https://localhost:8080/"
        },
        "id": "HtABqYnPdhsi",
        "outputId": "6585d832-3b2c-418d-8e67-57f98cbe8d0e"
      },
      "outputs": [
        {
          "output_type": "stream",
          "name": "stdout",
          "text": [
            "Requirement already satisfied: transformers in /usr/local/lib/python3.10/dist-packages (4.41.2)\n",
            "Requirement already satisfied: filelock in /usr/local/lib/python3.10/dist-packages (from transformers) (3.14.0)\n",
            "Requirement already satisfied: huggingface-hub<1.0,>=0.23.0 in /usr/local/lib/python3.10/dist-packages (from transformers) (0.23.2)\n",
            "Requirement already satisfied: numpy>=1.17 in /usr/local/lib/python3.10/dist-packages (from transformers) (1.25.2)\n",
            "Requirement already satisfied: packaging>=20.0 in /usr/local/lib/python3.10/dist-packages (from transformers) (24.0)\n",
            "Requirement already satisfied: pyyaml>=5.1 in /usr/local/lib/python3.10/dist-packages (from transformers) (6.0.1)\n",
            "Requirement already satisfied: regex!=2019.12.17 in /usr/local/lib/python3.10/dist-packages (from transformers) (2024.5.15)\n",
            "Requirement already satisfied: requests in /usr/local/lib/python3.10/dist-packages (from transformers) (2.31.0)\n",
            "Requirement already satisfied: tokenizers<0.20,>=0.19 in /usr/local/lib/python3.10/dist-packages (from transformers) (0.19.1)\n",
            "Requirement already satisfied: safetensors>=0.4.1 in /usr/local/lib/python3.10/dist-packages (from transformers) (0.4.3)\n",
            "Requirement already satisfied: tqdm>=4.27 in /usr/local/lib/python3.10/dist-packages (from transformers) (4.66.4)\n",
            "Requirement already satisfied: fsspec>=2023.5.0 in /usr/local/lib/python3.10/dist-packages (from huggingface-hub<1.0,>=0.23.0->transformers) (2023.6.0)\n",
            "Requirement already satisfied: typing-extensions>=3.7.4.3 in /usr/local/lib/python3.10/dist-packages (from huggingface-hub<1.0,>=0.23.0->transformers) (4.12.1)\n",
            "Requirement already satisfied: charset-normalizer<4,>=2 in /usr/local/lib/python3.10/dist-packages (from requests->transformers) (3.3.2)\n",
            "Requirement already satisfied: idna<4,>=2.5 in /usr/local/lib/python3.10/dist-packages (from requests->transformers) (3.7)\n",
            "Requirement already satisfied: urllib3<3,>=1.21.1 in /usr/local/lib/python3.10/dist-packages (from requests->transformers) (2.0.7)\n",
            "Requirement already satisfied: certifi>=2017.4.17 in /usr/local/lib/python3.10/dist-packages (from requests->transformers) (2024.6.2)\n"
          ]
        }
      ],
      "source": [
        "!pip install transformers"
      ]
    },
    {
      "cell_type": "code",
      "source": [
        "import pandas as pd\n",
        "from transformers import pipeline\n",
        "\n",
        "from google.colab import drive\n",
        "drive.mount('/content/gdrive')"
      ],
      "metadata": {
        "colab": {
          "base_uri": "https://localhost:8080/"
        },
        "id": "Kshmwuntd0ve",
        "outputId": "2862260e-d0d6-4719-a1e8-92e23ad659a0"
      },
      "execution_count": 1,
      "outputs": [
        {
          "output_type": "stream",
          "name": "stdout",
          "text": [
            "Mounted at /content/gdrive\n"
          ]
        }
      ]
    },
    {
      "cell_type": "code",
      "source": [
        "!pip install tqdm"
      ],
      "metadata": {
        "colab": {
          "base_uri": "https://localhost:8080/"
        },
        "id": "2JyuGpuSmV-P",
        "outputId": "3aeeec3b-7897-4618-ff62-d07fb7d74c5e"
      },
      "execution_count": 4,
      "outputs": [
        {
          "output_type": "stream",
          "name": "stdout",
          "text": [
            "Requirement already satisfied: tqdm in /usr/local/lib/python3.10/dist-packages (4.66.4)\n"
          ]
        }
      ]
    },
    {
      "cell_type": "code",
      "source": [
        "from tqdm import tqdm"
      ],
      "metadata": {
        "id": "PvyQz1OUmdAi"
      },
      "execution_count": 5,
      "outputs": []
    },
    {
      "cell_type": "code",
      "source": [
        "data = pd.read_csv('/content/gdrive/MyDrive/AI final 2024/disease to description/disease to description-1.csv', encoding=\"ISO-8859-1\")\n",
        "\n",
        "# description, disease label\n",
        "descriptions = data['description'].tolist()\n",
        "diseases = data['diseases'].unique().tolist()\n",
        "\n",
        "# Zero-Shot Classification pipeline\n",
        "classifier = pipeline(\"zero-shot-classification\", model=\"facebook/bart-large-mnli\")\n",
        "\n",
        "# predict function\n",
        "def predict_disease(descriptions, labels, batch_size=8):\n",
        "\n",
        "    labels = list(set(label.strip() for label in labels))\n",
        "    results = []\n",
        "    for i in tqdm(range(0, len(descriptions), batch_size), desc=\"Processing batches\"):\n",
        "        batch_descriptions = descriptions[i:i + batch_size]\n",
        "        batch_results = classifier(\n",
        "            batch_descriptions,\n",
        "            candidate_labels=labels,\n",
        "        )\n",
        "        results.extend(batch_results)\n",
        "    return results\n",
        "\n"
      ],
      "metadata": {
        "id": "kdNYSIlEeWDY"
      },
      "execution_count": 15,
      "outputs": []
    },
    {
      "cell_type": "markdown",
      "source": [
        "# Raw test"
      ],
      "metadata": {
        "id": "jpGFu9oNgCrS"
      }
    },
    {
      "cell_type": "code",
      "source": [
        "\n",
        "# small test\n",
        "test_description = \"fever and sore throat\"\n",
        "result_list = predict_disease(test_description, diseases)\n",
        "print(' ')\n",
        "for result in result_list:\n",
        "    print(f\"Description: {test_description}\")\n",
        "    print(f\"Predicted diseases: {result['labels']}\")\n",
        "    print(f\"Scores: {result['scores']}\")\n",
        "\n",
        "    # print\n",
        "    for label, score in zip(result['labels'], result['scores']):\n",
        "        score = score * 100\n",
        "        print(f\"Disease: {label}, Score: {score:.4f}%\")\n"
      ],
      "metadata": {
        "colab": {
          "base_uri": "https://localhost:8080/"
        },
        "id": "9n8NWK_zmwUG",
        "outputId": "bb69bdc1-86a1-47d7-e1bc-f6d27d6f68f5"
      },
      "execution_count": null,
      "outputs": [
        {
          "output_type": "stream",
          "name": "stderr",
          "text": [
            "Processing batches: 100%|██████████| 1/1 [00:03<00:00,  3.89s/it]"
          ]
        },
        {
          "output_type": "stream",
          "name": "stdout",
          "text": [
            " \n",
            "Description: fever and sore throat\n",
            "Predicted diseases: ['Lymphocytic Choriomeningitis ', 'Marine Toxins ', 'Parasites - Trichuriasis ', 'Parasites - Cysticercosis', 'Parasites - Cysticercosis ']\n",
            "Scores: [0.34865620732307434, 0.19034601747989655, 0.1726599782705307, 0.15773619711399078, 0.13060161471366882]\n",
            "Disease: Lymphocytic Choriomeningitis , Score: 0.3487\n",
            "Disease: Marine Toxins , Score: 0.1903\n",
            "Disease: Parasites - Trichuriasis , Score: 0.1727\n",
            "Disease: Parasites - Cysticercosis, Score: 0.1577\n",
            "Disease: Parasites - Cysticercosis , Score: 0.1306\n"
          ]
        },
        {
          "output_type": "stream",
          "name": "stderr",
          "text": [
            "\n"
          ]
        }
      ]
    },
    {
      "cell_type": "code",
      "source": [
        "\n",
        "# test (all data)\n",
        "test_description = \"fever and sore throat\"\n",
        "result_list = predict_disease(test_description, diseases)\n",
        "print('\\n')\n",
        "for result in result_list:\n",
        "    print(f\"Description: {test_description}\\n\")\n",
        "    #print(f\"Predicted diseases: {result['labels']}\")\n",
        "    #print(f\"Scores: {result['scores']}\")\n",
        "\n",
        "    # print top 5\n",
        "    for i, (label, score) in enumerate(zip(result['labels'], result['scores'])):\n",
        "        if(i >= 5):\n",
        "          break\n",
        "        score = score * 100\n",
        "        print(f\"Top{i+1} Disease: {label}, Score: {score:.2f}%\")\n",
        "print('\\n')\n",
        "print('If you experience any symptoms, please seek medical attention promptly.')"
      ],
      "metadata": {
        "colab": {
          "base_uri": "https://localhost:8080/"
        },
        "id": "4gtkOrIgslnY",
        "outputId": "91193172-72a6-492f-9996-a0a65edc7c3f"
      },
      "execution_count": null,
      "outputs": [
        {
          "output_type": "stream",
          "name": "stderr",
          "text": [
            "Processing batches: 100%|██████████| 1/1 [1:13:04<00:00, 4384.98s/it]"
          ]
        },
        {
          "output_type": "stream",
          "name": "stdout",
          "text": [
            "\n",
            "\n",
            "Description: fever and sore throat\n",
            "\n",
            "Top1 Disease: Sore Throat , Score: 0.80%\n",
            "Top2 Disease: Sore Throat, Score: 0.77%\n",
            "Top3 Disease: Fever, Score: 0.64%\n",
            "Top4 Disease: Fever , Score: 0.40%\n",
            "Top5 Disease: Cough , Score: 0.38%\n",
            "\n",
            "\n",
            "If you experience any symptoms, please seek medical attention promptly.\n"
          ]
        },
        {
          "output_type": "stream",
          "name": "stderr",
          "text": [
            "\n"
          ]
        }
      ]
    },
    {
      "cell_type": "markdown",
      "source": [
        "# Formal test"
      ],
      "metadata": {
        "id": "ZXiI0cEziWYt"
      }
    },
    {
      "cell_type": "code",
      "source": [
        "\n",
        "test_description = [\n",
        "    \"Recurring fevers, chills, and sweats caused by mosquito-borne parasites.\",\n",
        "    \"Persistent cough, weight loss, night sweats, and fatigue due to bacterial infection.\"\n",
        "]\n",
        "result_list = predict_disease(test_description, diseases)\n",
        "print('\\n')\n",
        "for i, result in enumerate(result_list):\n",
        "    print('\\n')\n",
        "    print(f\"Description: {test_description[i]}\\n\")\n",
        "    #print(f\"Predicted diseases: {result['labels']}\")\n",
        "    #print(f\"Scores: {result['scores']}\")\n",
        "\n",
        "    # print top 5\n",
        "\n",
        "    for i, (label, score) in enumerate(zip(result['labels'], result['scores'])):\n",
        "\n",
        "        if(i >= 5):\n",
        "          break\n",
        "        score = score * 100\n",
        "        print(f\"Top{i+1} Disease: {label}, Score: {score:.2f}%\")\n",
        "    print('\\n')\n",
        "    print('If you experience any symptoms, please seek medical attention promptly.')\n",
        "    print('____________________________________________________________________________________')"
      ],
      "metadata": {
        "colab": {
          "base_uri": "https://localhost:8080/"
        },
        "id": "NYok7cx7geSD",
        "outputId": "a198d72e-05d5-43d4-9e45-5069b096ffc7"
      },
      "execution_count": 16,
      "outputs": [
        {
          "output_type": "stream",
          "name": "stderr",
          "text": [
            "Processing batches: 100%|██████████| 1/1 [1:47:03<00:00, 6423.83s/it]"
          ]
        },
        {
          "output_type": "stream",
          "name": "stdout",
          "text": [
            "\n",
            "\n",
            "\n",
            "\n",
            "Description: Recurring fevers, chills, and sweats caused by mosquito-borne parasites.\n",
            "\n",
            "Top1 Disease: Sweat, Score: 0.28%\n",
            "Top2 Disease: Fever, Score: 0.22%\n",
            "Top3 Disease: Parasitic Diseases, Score: 0.22%\n",
            "Top4 Disease: common variable immune deficiency, Score: 0.19%\n",
            "Top5 Disease: Dual Diagnosis, Score: 0.17%\n",
            "\n",
            "\n",
            "If you experience any symptoms, please seek medical attention promptly.\n",
            "____________________________________________________________________________________\n",
            "\n",
            "\n",
            "Description: Persistent cough, weight loss, night sweats, and fatigue due to bacterial infection.\n",
            "\n",
            "Top1 Disease: Bacterial Infections, Score: 1.28%\n",
            "Top2 Disease: Breathing Problems, Score: 1.03%\n",
            "Top3 Disease: Cough, Score: 0.91%\n",
            "Top4 Disease: common variable immune deficiency, Score: 0.27%\n",
            "Top5 Disease: Dual Diagnosis, Score: 0.25%\n",
            "\n",
            "\n",
            "If you experience any symptoms, please seek medical attention promptly.\n",
            "____________________________________________________________________________________\n"
          ]
        },
        {
          "output_type": "stream",
          "name": "stderr",
          "text": [
            "\n"
          ]
        }
      ]
    },
    {
      "cell_type": "code",
      "source": [
        "\n",
        "test_description = [\n",
        "    \"Recurring fevers, chills, and sweats caused by mosquito-borne parasites.\",\n",
        "    \"Persistent cough, weight loss, night sweats, and fatigue due to bacterial infection.\"\n",
        "]\n",
        "result_list = predict_disease(test_description, diseases)\n",
        "print('\\n')\n",
        "for i, result in enumerate(result_list):\n",
        "    print('\\n')\n",
        "    print(f\"Description: {test_description[i]}\\n\")\n",
        "    #print(f\"Predicted diseases: {result['labels']}\")\n",
        "    #print(f\"Scores: {result['scores']}\")\n",
        "\n",
        "    # print top 20\n",
        "\n",
        "    for i, (label, score) in enumerate(zip(result['labels'], result['scores'])):\n",
        "\n",
        "        if(i >= 20):\n",
        "          break\n",
        "        score = score * 100\n",
        "        print(f\"Top{i+1} Disease: {label}, Score: {score:.2f}%\")\n",
        "    print('\\n')\n",
        "    print('If you experience any symptoms, please seek medical attention promptly.')\n",
        "    print('____________________________________________________________________________________')"
      ],
      "metadata": {
        "colab": {
          "base_uri": "https://localhost:8080/"
        },
        "id": "QrqbqnzRRx8s",
        "outputId": "ee8d37a0-1c1c-4593-8fc9-698fded46663"
      },
      "execution_count": 17,
      "outputs": [
        {
          "output_type": "stream",
          "name": "stderr",
          "text": [
            "Processing batches: 100%|██████████| 1/1 [1:46:07<00:00, 6367.55s/it]"
          ]
        },
        {
          "output_type": "stream",
          "name": "stdout",
          "text": [
            "\n",
            "\n",
            "\n",
            "\n",
            "Description: Recurring fevers, chills, and sweats caused by mosquito-borne parasites.\n",
            "\n",
            "Top1 Disease: Sweat, Score: 0.28%\n",
            "Top2 Disease: Fever, Score: 0.22%\n",
            "Top3 Disease: Parasitic Diseases, Score: 0.22%\n",
            "Top4 Disease: common variable immune deficiency, Score: 0.19%\n",
            "Top5 Disease: Dual Diagnosis, Score: 0.17%\n",
            "Top6 Disease: multiminicore disease, Score: 0.14%\n",
            "Top7 Disease: Coping with Chronic Illness, Score: 0.14%\n",
            "Top8 Disease: Health Disparities, Score: 0.13%\n",
            "Top9 Disease: Common variable immunodeficiency, Score: 0.13%\n",
            "Top10 Disease: Evaluating Health Information, Score: 0.12%\n",
            "Top11 Disease: Disseminated superficial actinic porokeratosis, Score: 0.12%\n",
            "Top12 Disease: Acute intermittent porphyria, Score: 0.11%\n",
            "Top13 Disease: Nevi flammei, familial multiple, Score: 0.11%\n",
            "Top14 Disease: Carney complex, Score: 0.11%\n",
            "Top15 Disease: Chronic atypical neutrophilic dermatosis with lipodystrophy and elevated temperature, Score: 0.11%\n",
            "Top16 Disease: Immune System and Disorders, Score: 0.10%\n",
            "Top17 Disease: Infection Control, Score: 0.10%\n",
            "Top18 Disease: Geographic tongue, Score: 0.10%\n",
            "Top19 Disease: Parasites - Paragonimiasis, Score: 0.10%\n",
            "Top20 Disease: Light chain deposition disease, Score: 0.09%\n",
            "\n",
            "\n",
            "If you experience any symptoms, please seek medical attention promptly.\n",
            "____________________________________________________________________________________\n",
            "\n",
            "\n",
            "Description: Persistent cough, weight loss, night sweats, and fatigue due to bacterial infection.\n",
            "\n",
            "Top1 Disease: Bacterial Infections, Score: 1.28%\n",
            "Top2 Disease: Breathing Problems, Score: 1.03%\n",
            "Top3 Disease: Cough, Score: 0.91%\n",
            "Top4 Disease: common variable immune deficiency, Score: 0.27%\n",
            "Top5 Disease: Dual Diagnosis, Score: 0.25%\n",
            "Top6 Disease: Fatigue, Score: 0.23%\n",
            "Top7 Disease: Sweat, Score: 0.21%\n",
            "Top8 Disease: Throat Disorders, Score: 0.18%\n",
            "Top9 Disease: Sore Throat, Score: 0.18%\n",
            "Top10 Disease: Coping with Chronic Illness, Score: 0.17%\n",
            "Top11 Disease: multiple system atrophy, Score: 0.17%\n",
            "Top12 Disease: Infectious Diseases, Score: 0.15%\n",
            "Top13 Disease: Health Disparities, Score: 0.13%\n",
            "Top14 Disease: Acute respiratory distress syndrome, Score: 0.13%\n",
            "Top15 Disease: multiminicore disease, Score: 0.13%\n",
            "Top16 Disease: Personal Health Records, Score: 0.13%\n",
            "Top17 Disease: hypomagnesemia with secondary hypocalcemia, Score: 0.12%\n",
            "Top18 Disease: Evaluating Health Information, Score: 0.11%\n",
            "Top19 Disease: Immune System and Disorders, Score: 0.11%\n",
            "Top20 Disease: Benign recurrent intrahepatic cholestasis, Score: 0.10%\n",
            "\n",
            "\n",
            "If you experience any symptoms, please seek medical attention promptly.\n",
            "____________________________________________________________________________________\n"
          ]
        },
        {
          "output_type": "stream",
          "name": "stderr",
          "text": [
            "\n"
          ]
        }
      ]
    }
  ]
}